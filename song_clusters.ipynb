{
 "cells": [
  {
   "cell_type": "markdown",
   "metadata": {},
   "source": [
    "# Song Clusters"
   ]
  },
  {
   "cell_type": "markdown",
   "metadata": {},
   "source": []
  },
  {
   "cell_type": "code",
   "execution_count": 19,
   "metadata": {},
   "outputs": [],
   "source": [
    "import os\n",
    "import json\n",
    "import spotipy\n",
    "import spotipy.util as util\n",
    "from spotipy.oauth2 import SpotifyClientCredentials\n",
    "\n",
    "import pandas as pd\n",
    "import numpy as np\n",
    "import matplotlib.pyplot as plt\n",
    "\n",
    "from sklearn.cluster import KMeans\n",
    "from sklearn.preprocessing import StandardScaler\n",
    "from sklearn.pipeline import make_pipeline"
   ]
  },
  {
   "cell_type": "markdown",
   "metadata": {},
   "source": [
    "## Set credentials and perform authetification"
   ]
  },
  {
   "cell_type": "code",
   "execution_count": 5,
   "metadata": {},
   "outputs": [],
   "source": [
    "# define credentials\n",
    "cid = \"XXX\"\n",
    "secret = \"XXX\"\n",
    "redirect_uri = \"XXX\"\n",
    "username = \"XXX\""
   ]
  },
  {
   "cell_type": "code",
   "execution_count": 7,
   "metadata": {},
   "outputs": [],
   "source": [
    "# Auth\n",
    "scope = \"user-library-read\"\n",
    "token = util.prompt_for_user_token(username, scope, client_id=cid, client_secret=secret, redirect_uri=redirect_uri)\n",
    "\n",
    "if token:\n",
    "    sp = spotipy.Spotify(auth = token)\n",
    "else:\n",
    "    print(\"Can't get token for \" + username)"
   ]
  },
  {
   "cell_type": "markdown",
   "metadata": {},
   "source": [
    "## Get saved songs and features"
   ]
  },
  {
   "cell_type": "code",
   "execution_count": 8,
   "metadata": {},
   "outputs": [],
   "source": [
    "# Fetch saved songs for the user\n",
    "saved_tracks_df = pd.DataFrame()\n",
    "track_list = \"\"\n",
    "date_added_list = []\n",
    "artist_list = []\n",
    "title_list = []\n",
    "\n",
    "more_songs = True\n",
    "offset_index = 0\n",
    "\n",
    "while more_songs: \n",
    "    songs = sp.current_user_saved_tracks(offset = offset_index)\n",
    "    \n",
    "    for song in songs[\"items\"]:\n",
    "        \n",
    "        # add song ids to track list\n",
    "        track_list += song[\"track\"][\"id\"] + \",\"\n",
    "        \n",
    "        # add time when the song was added\n",
    "        date_added_list.append(song[\"added_at\"])\n",
    "        \n",
    "        # add title of the song\n",
    "        title_list.append(song[\"track\"][\"name\"])\n",
    "        \n",
    "        # add all artists of the song\n",
    "        artists = song[\"track\"][\"artists\"]\n",
    "        artists_name = \"\"\n",
    "        for artist in artists:\n",
    "            artists_name += artist[\"name\"] + \",\"\n",
    "        artist_list.append(artists_name[:-1])\n",
    "    \n",
    "    # get track features and append them to the dataframe\n",
    "    track_features = sp.audio_features(track_list[:-1])\n",
    "    temp_df = pd.DataFrame(track_features)\n",
    "    saved_tracks_df = saved_tracks_df.append(temp_df)\n",
    "    track_list = \"\"\n",
    "    \n",
    "    if songs[\"next\"] == None:\n",
    "        more_songs = False\n",
    "    else:\n",
    "        offset_index += songs[\"limit\"]\n",
    "\n",
    "saved_tracks_df[\"artists\"] = artist_list\n",
    "saved_tracks_df[\"song_title\"] = title_list\n",
    "saved_tracks_df[\"date_added\"] = date_added_list"
   ]
  },
  {
   "cell_type": "code",
   "execution_count": 9,
   "metadata": {},
   "outputs": [
    {
     "data": {
      "text/html": [
       "<div>\n",
       "<style scoped>\n",
       "    .dataframe tbody tr th:only-of-type {\n",
       "        vertical-align: middle;\n",
       "    }\n",
       "\n",
       "    .dataframe tbody tr th {\n",
       "        vertical-align: top;\n",
       "    }\n",
       "\n",
       "    .dataframe thead th {\n",
       "        text-align: right;\n",
       "    }\n",
       "</style>\n",
       "<table border=\"1\" class=\"dataframe\">\n",
       "  <thead>\n",
       "    <tr style=\"text-align: right;\">\n",
       "      <th></th>\n",
       "      <th>danceability</th>\n",
       "      <th>energy</th>\n",
       "      <th>key</th>\n",
       "      <th>loudness</th>\n",
       "      <th>mode</th>\n",
       "      <th>speechiness</th>\n",
       "      <th>acousticness</th>\n",
       "      <th>instrumentalness</th>\n",
       "      <th>liveness</th>\n",
       "      <th>valence</th>\n",
       "      <th>...</th>\n",
       "      <th>type</th>\n",
       "      <th>id</th>\n",
       "      <th>uri</th>\n",
       "      <th>track_href</th>\n",
       "      <th>analysis_url</th>\n",
       "      <th>duration_ms</th>\n",
       "      <th>time_signature</th>\n",
       "      <th>artists</th>\n",
       "      <th>song_title</th>\n",
       "      <th>date_added</th>\n",
       "    </tr>\n",
       "  </thead>\n",
       "  <tbody>\n",
       "    <tr>\n",
       "      <th>0</th>\n",
       "      <td>0.672</td>\n",
       "      <td>0.743</td>\n",
       "      <td>1</td>\n",
       "      <td>-5.000</td>\n",
       "      <td>1</td>\n",
       "      <td>0.0558</td>\n",
       "      <td>0.03770</td>\n",
       "      <td>0.000689</td>\n",
       "      <td>0.299</td>\n",
       "      <td>0.246</td>\n",
       "      <td>...</td>\n",
       "      <td>audio_features</td>\n",
       "      <td>4wOhPUptCNCCJK0OtjFzpy</td>\n",
       "      <td>spotify:track:4wOhPUptCNCCJK0OtjFzpy</td>\n",
       "      <td>https://api.spotify.com/v1/tracks/4wOhPUptCNCC...</td>\n",
       "      <td>https://api.spotify.com/v1/audio-analysis/4wOh...</td>\n",
       "      <td>322075</td>\n",
       "      <td>4</td>\n",
       "      <td>DEADLIFE</td>\n",
       "      <td>Deviant</td>\n",
       "      <td>2020-03-27T11:10:39Z</td>\n",
       "    </tr>\n",
       "    <tr>\n",
       "      <th>1</th>\n",
       "      <td>0.746</td>\n",
       "      <td>0.695</td>\n",
       "      <td>4</td>\n",
       "      <td>-7.517</td>\n",
       "      <td>0</td>\n",
       "      <td>0.0400</td>\n",
       "      <td>0.19600</td>\n",
       "      <td>0.026700</td>\n",
       "      <td>0.199</td>\n",
       "      <td>0.861</td>\n",
       "      <td>...</td>\n",
       "      <td>audio_features</td>\n",
       "      <td>4xymOOdANFwko4RpeR961e</td>\n",
       "      <td>spotify:track:4xymOOdANFwko4RpeR961e</td>\n",
       "      <td>https://api.spotify.com/v1/tracks/4xymOOdANFwk...</td>\n",
       "      <td>https://api.spotify.com/v1/audio-analysis/4xym...</td>\n",
       "      <td>258453</td>\n",
       "      <td>4</td>\n",
       "      <td>Crystal Castles,HEALTH</td>\n",
       "      <td>Crimewave</td>\n",
       "      <td>2020-03-26T22:30:02Z</td>\n",
       "    </tr>\n",
       "    <tr>\n",
       "      <th>2</th>\n",
       "      <td>0.651</td>\n",
       "      <td>0.751</td>\n",
       "      <td>8</td>\n",
       "      <td>-7.422</td>\n",
       "      <td>1</td>\n",
       "      <td>0.3180</td>\n",
       "      <td>0.00982</td>\n",
       "      <td>0.000000</td>\n",
       "      <td>0.266</td>\n",
       "      <td>0.844</td>\n",
       "      <td>...</td>\n",
       "      <td>audio_features</td>\n",
       "      <td>7i5LIw3UC2WgqIp798GGx6</td>\n",
       "      <td>spotify:track:7i5LIw3UC2WgqIp798GGx6</td>\n",
       "      <td>https://api.spotify.com/v1/tracks/7i5LIw3UC2Wg...</td>\n",
       "      <td>https://api.spotify.com/v1/audio-analysis/7i5L...</td>\n",
       "      <td>195280</td>\n",
       "      <td>4</td>\n",
       "      <td>Jupiter</td>\n",
       "      <td>Starlighter</td>\n",
       "      <td>2020-03-26T21:58:16Z</td>\n",
       "    </tr>\n",
       "    <tr>\n",
       "      <th>3</th>\n",
       "      <td>0.556</td>\n",
       "      <td>0.893</td>\n",
       "      <td>10</td>\n",
       "      <td>-3.766</td>\n",
       "      <td>0</td>\n",
       "      <td>0.0621</td>\n",
       "      <td>0.23900</td>\n",
       "      <td>0.000000</td>\n",
       "      <td>0.123</td>\n",
       "      <td>0.260</td>\n",
       "      <td>...</td>\n",
       "      <td>audio_features</td>\n",
       "      <td>3Q6mwJseOFYBJ10d5CXp4o</td>\n",
       "      <td>spotify:track:3Q6mwJseOFYBJ10d5CXp4o</td>\n",
       "      <td>https://api.spotify.com/v1/tracks/3Q6mwJseOFYB...</td>\n",
       "      <td>https://api.spotify.com/v1/audio-analysis/3Q6m...</td>\n",
       "      <td>253547</td>\n",
       "      <td>4</td>\n",
       "      <td>Kavinsky,The Weeknd</td>\n",
       "      <td>Odd Look</td>\n",
       "      <td>2020-03-26T21:58:12Z</td>\n",
       "    </tr>\n",
       "    <tr>\n",
       "      <th>4</th>\n",
       "      <td>0.777</td>\n",
       "      <td>0.851</td>\n",
       "      <td>10</td>\n",
       "      <td>-3.801</td>\n",
       "      <td>0</td>\n",
       "      <td>0.0844</td>\n",
       "      <td>0.00769</td>\n",
       "      <td>0.000000</td>\n",
       "      <td>0.140</td>\n",
       "      <td>0.698</td>\n",
       "      <td>...</td>\n",
       "      <td>audio_features</td>\n",
       "      <td>5bzaS5tAni5oUpW7bWVdtY</td>\n",
       "      <td>spotify:track:5bzaS5tAni5oUpW7bWVdtY</td>\n",
       "      <td>https://api.spotify.com/v1/tracks/5bzaS5tAni5o...</td>\n",
       "      <td>https://api.spotify.com/v1/audio-analysis/5bza...</td>\n",
       "      <td>163387</td>\n",
       "      <td>4</td>\n",
       "      <td>G-Eazy,Gunna</td>\n",
       "      <td>I Wanna Rock (feat. Gunna)</td>\n",
       "      <td>2020-03-25T14:24:38Z</td>\n",
       "    </tr>\n",
       "  </tbody>\n",
       "</table>\n",
       "<p>5 rows × 21 columns</p>\n",
       "</div>"
      ],
      "text/plain": [
       "   danceability  energy  key  loudness  mode  speechiness  acousticness  \\\n",
       "0         0.672   0.743    1    -5.000     1       0.0558       0.03770   \n",
       "1         0.746   0.695    4    -7.517     0       0.0400       0.19600   \n",
       "2         0.651   0.751    8    -7.422     1       0.3180       0.00982   \n",
       "3         0.556   0.893   10    -3.766     0       0.0621       0.23900   \n",
       "4         0.777   0.851   10    -3.801     0       0.0844       0.00769   \n",
       "\n",
       "   instrumentalness  liveness  valence  ...            type  \\\n",
       "0          0.000689     0.299    0.246  ...  audio_features   \n",
       "1          0.026700     0.199    0.861  ...  audio_features   \n",
       "2          0.000000     0.266    0.844  ...  audio_features   \n",
       "3          0.000000     0.123    0.260  ...  audio_features   \n",
       "4          0.000000     0.140    0.698  ...  audio_features   \n",
       "\n",
       "                       id                                   uri  \\\n",
       "0  4wOhPUptCNCCJK0OtjFzpy  spotify:track:4wOhPUptCNCCJK0OtjFzpy   \n",
       "1  4xymOOdANFwko4RpeR961e  spotify:track:4xymOOdANFwko4RpeR961e   \n",
       "2  7i5LIw3UC2WgqIp798GGx6  spotify:track:7i5LIw3UC2WgqIp798GGx6   \n",
       "3  3Q6mwJseOFYBJ10d5CXp4o  spotify:track:3Q6mwJseOFYBJ10d5CXp4o   \n",
       "4  5bzaS5tAni5oUpW7bWVdtY  spotify:track:5bzaS5tAni5oUpW7bWVdtY   \n",
       "\n",
       "                                          track_href  \\\n",
       "0  https://api.spotify.com/v1/tracks/4wOhPUptCNCC...   \n",
       "1  https://api.spotify.com/v1/tracks/4xymOOdANFwk...   \n",
       "2  https://api.spotify.com/v1/tracks/7i5LIw3UC2Wg...   \n",
       "3  https://api.spotify.com/v1/tracks/3Q6mwJseOFYB...   \n",
       "4  https://api.spotify.com/v1/tracks/5bzaS5tAni5o...   \n",
       "\n",
       "                                        analysis_url duration_ms  \\\n",
       "0  https://api.spotify.com/v1/audio-analysis/4wOh...      322075   \n",
       "1  https://api.spotify.com/v1/audio-analysis/4xym...      258453   \n",
       "2  https://api.spotify.com/v1/audio-analysis/7i5L...      195280   \n",
       "3  https://api.spotify.com/v1/audio-analysis/3Q6m...      253547   \n",
       "4  https://api.spotify.com/v1/audio-analysis/5bza...      163387   \n",
       "\n",
       "   time_signature                 artists                  song_title  \\\n",
       "0               4                DEADLIFE                     Deviant   \n",
       "1               4  Crystal Castles,HEALTH                   Crimewave   \n",
       "2               4                 Jupiter                 Starlighter   \n",
       "3               4     Kavinsky,The Weeknd                    Odd Look   \n",
       "4               4            G-Eazy,Gunna  I Wanna Rock (feat. Gunna)   \n",
       "\n",
       "             date_added  \n",
       "0  2020-03-27T11:10:39Z  \n",
       "1  2020-03-26T22:30:02Z  \n",
       "2  2020-03-26T21:58:16Z  \n",
       "3  2020-03-26T21:58:12Z  \n",
       "4  2020-03-25T14:24:38Z  \n",
       "\n",
       "[5 rows x 21 columns]"
      ]
     },
     "execution_count": 9,
     "metadata": {},
     "output_type": "execute_result"
    }
   ],
   "source": [
    "saved_tracks_df.head(5)"
   ]
  },
  {
   "cell_type": "code",
   "execution_count": 19,
   "metadata": {},
   "outputs": [
    {
     "data": {
      "text/plain": [
       "Index(['danceability', 'energy', 'key', 'loudness', 'mode', 'speechiness',\n",
       "       'acousticness', 'instrumentalness', 'liveness', 'valence', 'tempo',\n",
       "       'type', 'id', 'uri', 'track_href', 'analysis_url', 'duration_ms',\n",
       "       'time_signature', 'artists', 'song_title', 'date_added'],\n",
       "      dtype='object')"
      ]
     },
     "execution_count": 19,
     "metadata": {},
     "output_type": "execute_result"
    }
   ],
   "source": [
    "saved_tracks_df.columns"
   ]
  },
  {
   "cell_type": "markdown",
   "metadata": {},
   "source": [
    "## Clustering\n",
    " - select relevant columns\n",
    " - standardize\n",
    " - run KMeans for k of 1 to 10 and save inertia"
   ]
  },
  {
   "cell_type": "code",
   "execution_count": 27,
   "metadata": {},
   "outputs": [],
   "source": [
    "# select columns\n",
    "use_cols = [\"danceability\", \"energy\", \"loudness\", \"mode\", \"speechiness\", \"acousticness\", \"instrumentalness\", \"liveness\", \"valence\", \"tempo\"]\n",
    "# transform to numpy array\n",
    "saved_tracks_array = np.array(saved_tracks_df[use_cols])\n",
    "\n",
    "# standardize values\n",
    "scaler = StandardScaler()\n",
    "scaler.fit(saved_tracks_array)\n",
    "saved_tracks_array = scaler.transform(saved_tracks_array)\n",
    "\n",
    "# define inertia list\n",
    "inertia_list = []\n",
    "\n",
    "\n",
    "for k in range(1, 11, 1):\n",
    "    # set up model with k clusters\n",
    "    model = KMeans(n_clusters = k)\n",
    "    # fit model to data array\n",
    "    model.fit(saved_tracks_array)\n",
    "    # append inertia to list\n",
    "    inertia_list.append(model.inertia_)"
   ]
  },
  {
   "cell_type": "markdown",
   "metadata": {},
   "source": [
    "## Evaluate results\n",
    "After 5 clusters, slope becomes linear. -> select k = 5."
   ]
  },
  {
   "cell_type": "code",
   "execution_count": 28,
   "metadata": {},
   "outputs": [
    {
     "data": {
      "image/png": "[encoded data removed]",
      "text/plain": [
       "<Figure size 432x288 with 1 Axes>"
      ]
     },
     "metadata": {
      "needs_background": "light"
     },
     "output_type": "display_data"
    }
   ],
   "source": [
    "plt.plot(range(1, 11), inertia_list)\n",
    "plt.scatter(range(1, 11), inertia_list)\n",
    "plt.xticks(range(1, 11))\n",
    "plt.show()"
   ]
  },
  {
   "cell_type": "code",
   "execution_count": 31,
   "metadata": {},
   "outputs": [],
   "source": [
    "# model with k = 5\n",
    "model = KMeans(n_clusters = 5)\n",
    "model.fit(saved_tracks_array)\n",
    "\n",
    "# create new column with cluster labels: cluster_labels\n",
    "saved_tracks_df[\"cluster_labels\"] = model.labels_"
   ]
  },
  {
   "cell_type": "markdown",
   "metadata": {},
   "source": [
    "## Create a new playlist for each cluster"
   ]
  },
  {
   "cell_type": "code",
   "execution_count": 46,
   "metadata": {},
   "outputs": [],
   "source": [
    "# authorization\n",
    "scope = \"playlist-modify-public\"\n",
    "token = util.prompt_for_user_token(username, scope, client_id = cid, client_secret = secret, redirect_uri = redirect_uri)\n",
    "\n",
    "if token:\n",
    "    sp = spotipy.Spotify(auth = token)\n",
    "else:\n",
    "    print(\"Can't get token for \" + username)"
   ]
  },
  {
   "cell_type": "code",
   "execution_count": 53,
   "metadata": {},
   "outputs": [],
   "source": [
    "# create a new playlist for each of the clusters\n",
    "for label in range(0, 5):\n",
    "    sp.user_playlist_create(username, f\"Cluster-{label} playlist\", description = f\"Contains members of cluster {label}\")"
   ]
  },
  {
   "cell_type": "code",
   "execution_count": 54,
   "metadata": {},
   "outputs": [],
   "source": [
    "def get_playlists(sp, username):\n",
    "    \"\"\"returns all playlists for user\"\"\"\n",
    "    \n",
    "    id = []\n",
    "    name = []\n",
    "    num_tracks = []\n",
    "    \n",
    "    playlists = sp.user_playlists(username)\n",
    "    for playlist in playlists[\"items\"]:\n",
    "        id.append(playlist[\"id\"])\n",
    "        name.append(playlist[\"name\"])\n",
    "        num_tracks.append(playlist[\"tracks\"][\"total\"])\n",
    "    \n",
    "    playlists_df = pd.DataFrame({\"id\":id, \"name\":name, \"num_tracks\":num_tracks})\n",
    "    \n",
    "    return playlists_df\n",
    "\n",
    "# get ids for cluster playlists\n",
    "cluster_playlists = get_playlists(sp, username).head()"
   ]
  },
  {
   "cell_type": "code",
   "execution_count": 55,
   "metadata": {},
   "outputs": [],
   "source": [
    "def add_songs_to_playlist(df, sp, username, playlist_id):\n",
    "    \"\"\"adds songs to a playlist\"\"\"\n",
    "    \n",
    "    index = 0\n",
    "    results = []\n",
    "    \n",
    "    # get track ids\n",
    "    tracks = df[\"id\"]\n",
    "    \n",
    "    # can only add 100 tracks at a time\n",
    "    while index < len(tracks):\n",
    "        results += sp.user_playlist_add_tracks(username, playlist_id, tracks = tracks[index:index + 100])\n",
    "        index += 100"
   ]
  },
  {
   "cell_type": "code",
   "execution_count": 56,
   "metadata": {},
   "outputs": [],
   "source": [
    "for label in range(0, 5):\n",
    "    add_songs_to_playlist(saved_tracks_df.loc[saved_tracks_df[\"cluster_labels\"] == label, :], sp, username, cluster_playlists[\"id\"][label])"
   ]
  },
  {
   "cell_type": "code",
   "execution_count": 57,
   "metadata": {},
   "outputs": [
    {
     "data": {
      "text/html": [
       "<div>\n",
       "<style scoped>\n",
       "    .dataframe tbody tr th:only-of-type {\n",
       "        vertical-align: middle;\n",
       "    }\n",
       "\n",
       "    .dataframe tbody tr th {\n",
       "        vertical-align: top;\n",
       "    }\n",
       "\n",
       "    .dataframe thead th {\n",
       "        text-align: right;\n",
       "    }\n",
       "</style>\n",
       "<table border=\"1\" class=\"dataframe\">\n",
       "  <thead>\n",
       "    <tr style=\"text-align: right;\">\n",
       "      <th></th>\n",
       "      <th>id</th>\n",
       "      <th>name</th>\n",
       "      <th>num_tracks</th>\n",
       "    </tr>\n",
       "  </thead>\n",
       "  <tbody>\n",
       "    <tr>\n",
       "      <th>0</th>\n",
       "      <td>4M8cTfcyxz6edeePboKVwW</td>\n",
       "      <td>Cluster-4 playlist</td>\n",
       "      <td>189</td>\n",
       "    </tr>\n",
       "    <tr>\n",
       "      <th>1</th>\n",
       "      <td>1da55euuYqaJqNvIDX05Kl</td>\n",
       "      <td>Cluster-3 playlist</td>\n",
       "      <td>208</td>\n",
       "    </tr>\n",
       "    <tr>\n",
       "      <th>2</th>\n",
       "      <td>5eGPDDlDgmmFEFXebWSOqx</td>\n",
       "      <td>Cluster-2 playlist</td>\n",
       "      <td>64</td>\n",
       "    </tr>\n",
       "    <tr>\n",
       "      <th>3</th>\n",
       "      <td>62tCLUezCTDQUvrgxdPs5h</td>\n",
       "      <td>Cluster-1 playlist</td>\n",
       "      <td>18</td>\n",
       "    </tr>\n",
       "    <tr>\n",
       "      <th>4</th>\n",
       "      <td>7HPOoZFyUPfyNOQK9Ezsi9</td>\n",
       "      <td>Cluster-0 playlist</td>\n",
       "      <td>128</td>\n",
       "    </tr>\n",
       "  </tbody>\n",
       "</table>\n",
       "</div>"
      ],
      "text/plain": [
       "                       id                name  num_tracks\n",
       "0  4M8cTfcyxz6edeePboKVwW  Cluster-4 playlist         189\n",
       "1  1da55euuYqaJqNvIDX05Kl  Cluster-3 playlist         208\n",
       "2  5eGPDDlDgmmFEFXebWSOqx  Cluster-2 playlist          64\n",
       "3  62tCLUezCTDQUvrgxdPs5h  Cluster-1 playlist          18\n",
       "4  7HPOoZFyUPfyNOQK9Ezsi9  Cluster-0 playlist         128"
      ]
     },
     "execution_count": 57,
     "metadata": {},
     "output_type": "execute_result"
    }
   ],
   "source": [
    "get_playlists(sp, username).head()"
   ]
  },
  {
   "cell_type": "code",
   "execution_count": null,
   "metadata": {},
   "outputs": [],
   "source": []
  }
 ],
 "metadata": {
  "kernelspec": {
   "display_name": "Python 3",
   "language": "python",
   "name": "python3"
  },
  "language_info": {
   "codemirror_mode": {
    "name": "ipython",
    "version": 3
   },
   "file_extension": ".py",
   "mimetype": "text/x-python",
   "name": "python",
   "nbconvert_exporter": "python",
   "pygments_lexer": "ipython3",
   "version": "3.8.1"
  }
 },
 "nbformat": 4,
 "nbformat_minor": 4
}
